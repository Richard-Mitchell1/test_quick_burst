{
 "cells": [
  {
   "cell_type": "code",
   "execution_count": 2,
   "metadata": {},
   "outputs": [],
   "source": [
    "#imports\n",
    "import os, glob, json\n",
    "import matplotlib.pyplot as plt\n",
    "import numpy as np\n",
    "import scipy.stats as sps\n",
    "\n",
    "from enterprise.pulsar import Pulsar\n",
    "import enterprise.signals.parameter as parameter\n",
    "from enterprise.signals import utils\n",
    "from enterprise.signals import signal_base\n",
    "from enterprise.signals import selections\n",
    "from enterprise.signals import white_signals\n",
    "from enterprise.signals import gp_signals\n",
    "from enterprise.signals import selections\n",
    "from enterprise.signals.selections import Selection\n",
    "\n",
    "from enterprise_extensions import models, hypermodel\n",
    "from enterprise_extensions.model_utils import bayes_fac\n",
    "from la_forge import core, diagnostics\n",
    "\n",
    "from PTMCMCSampler.PTMCMCSampler import PTSampler as ptmcmc"
   ]
  },
  {
   "cell_type": "markdown",
   "metadata": {},
   "source": [
    "# Make my pulsar objects"
   ]
  },
  {
   "cell_type": "code",
   "execution_count": 3,
   "metadata": {},
   "outputs": [
    {
     "name": "stderr",
     "output_type": "stream",
     "text": [
      "WARNING: Could not find pulsar distance for PSR JPSR00. Setting value to 1 with 20% uncertainty.\n"
     ]
    },
    {
     "name": "stdout",
     "output_type": "stream",
     "text": [
      "[tempo2Util.C:396] Warning: [TIM1] Please place MODE flags in the parameter file \n",
      "[tempo2Util.C:401] Warning: [DUP1] duplicated warnings have been suppressed.\n"
     ]
    },
    {
     "name": "stderr",
     "output_type": "stream",
     "text": [
      "WARNING: Could not find pulsar distance for PSR JPSR01. Setting value to 1 with 20% uncertainty.\n",
      "WARNING: Could not find pulsar distance for PSR JPSR02. Setting value to 1 with 20% uncertainty.\n",
      "WARNING: Could not find pulsar distance for PSR JPSR03. Setting value to 1 with 20% uncertainty.\n",
      "WARNING: Could not find pulsar distance for PSR JPSR04. Setting value to 1 with 20% uncertainty.\n",
      "WARNING: Could not find pulsar distance for PSR JPSR05. Setting value to 1 with 20% uncertainty.\n",
      "WARNING: Could not find pulsar distance for PSR JPSR06. Setting value to 1 with 20% uncertainty.\n",
      "WARNING: Could not find pulsar distance for PSR JPSR07. Setting value to 1 with 20% uncertainty.\n",
      "WARNING: Could not find pulsar distance for PSR JPSR08. Setting value to 1 with 20% uncertainty.\n",
      "WARNING: Could not find pulsar distance for PSR JPSR09. Setting value to 1 with 20% uncertainty.\n",
      "WARNING: Could not find pulsar distance for PSR JPSR10. Setting value to 1 with 20% uncertainty.\n",
      "WARNING: Could not find pulsar distance for PSR JPSR11. Setting value to 1 with 20% uncertainty.\n",
      "WARNING: Could not find pulsar distance for PSR JPSR12. Setting value to 1 with 20% uncertainty.\n",
      "WARNING: Could not find pulsar distance for PSR JPSR13. Setting value to 1 with 20% uncertainty.\n",
      "WARNING: Could not find pulsar distance for PSR JPSR14. Setting value to 1 with 20% uncertainty.\n",
      "WARNING: Could not find pulsar distance for PSR JPSR15. Setting value to 1 with 20% uncertainty.\n",
      "WARNING: Could not find pulsar distance for PSR JPSR16. Setting value to 1 with 20% uncertainty.\n",
      "WARNING: Could not find pulsar distance for PSR JPSR17. Setting value to 1 with 20% uncertainty.\n",
      "WARNING: Could not find pulsar distance for PSR JPSR18. Setting value to 1 with 20% uncertainty.\n",
      "WARNING: Could not find pulsar distance for PSR JPSR19. Setting value to 1 with 20% uncertainty.\n"
     ]
    }
   ],
   "source": [
    "datadir = './20_pulsars/WN_only/'\n",
    "parfiles = sorted(glob.glob(datadir+'Pars/*'))\n",
    "timfiles = sorted(glob.glob(datadir+'Tims/*'))\n",
    "\n",
    "psrs = []\n",
    "for p, t in zip(parfiles,timfiles):\n",
    "    psr = Pulsar(p,t)\n",
    "    psrs.append(psr)"
   ]
  },
  {
   "cell_type": "markdown",
   "metadata": {},
   "source": [
    "# Make signal model"
   ]
  },
  {
   "cell_type": "code",
   "execution_count": 13,
   "metadata": {},
   "outputs": [],
   "source": [
    "selection = selections.Selection(selections.by_backend)\n",
    "\n",
    "#WN parameters\n",
    "efac = parameter.Uniform(0.0,10)\n",
    "equad = parameter.Uniform(-8.5,-5)\n",
    "ecorr = parameter.Uniform(-8.5,-5)\n",
    "\n",
    "#white noise\n",
    "ef = white_signals.MeasurementNoise(efac=efac, selection=selection)\n",
    "eq = white_signals.TNEquadNoise(log10_tnequad=equad,selection=selection)\n",
    "\n",
    "#timing model\n",
    "tm = gp_signals.TimingModel(use_svd=True)\n",
    "\n",
    "#full model\n",
    "s = tm + ef + eq\n",
    "\n",
    "my_pta = signal_base.PTA(s(psrs[0]))"
   ]
  },
  {
   "cell_type": "markdown",
   "metadata": {},
   "source": [
    "# do sampling"
   ]
  },
  {
   "cell_type": "code",
   "execution_count": 31,
   "metadata": {},
   "outputs": [
    {
     "name": "stdout",
     "output_type": "stream",
     "text": [
      "1000000\n",
      "Finished 0.00 percent in 0.000426 s Acceptance rate = 0"
     ]
    },
    {
     "name": "stderr",
     "output_type": "stream",
     "text": [
      "/home/mitch/miniconda3/envs/enterprise/lib/python3.10/site-packages/enterprise/signals/parameter.py:70: RuntimeWarning: divide by zero encountered in log\n",
      "  logpdf = np.log(self.prior(value, **kwargs))\n"
     ]
    },
    {
     "name": "stdout",
     "output_type": "stream",
     "text": [
      "Finished 1.00 percent in 3.004343 s Acceptance rate = 0.238833Adding DE jump with weight 50\n",
      "Finished 100.00 percent in 298.845104 s Acceptance rate = 0.324682\n",
      "Run Complete\n"
     ]
    }
   ],
   "source": [
    "x0 = np.hstack([p.sample() for p in my_pta.params])\n",
    "ndim = len(x0)\n",
    "\n",
    "outdir = './chains'\n",
    "os.makedirs(outdir, exist_ok=True)\n",
    "\n",
    "cov = np.diag(np.ones(ndim))\n",
    "\n",
    "sampler = ptmcmc(ndim, my_pta.get_lnlikelihood, my_pta.get_lnprior, cov, outDir=outdir, resume=False)\n",
    "\n",
    "num_samps = int(10e5)\n",
    "print(num_samps)\n",
    "sampler.sample(x0, num_samps,SCAMweight=30, AMweight=15, DEweight=50, )"
   ]
  },
  {
   "cell_type": "markdown",
   "metadata": {},
   "source": [
    "# check chain"
   ]
  },
  {
   "cell_type": "code",
   "execution_count": 42,
   "metadata": {},
   "outputs": [],
   "source": [
    "chain = np.loadtxt(outdir + '/chain_1.txt',delimiter='\\t')\n",
    "burn = int(0.1 * chain.shape[0])\n"
   ]
  },
  {
   "cell_type": "code",
   "execution_count": 44,
   "metadata": {},
   "outputs": [
    {
     "data": {
      "text/plain": [
       "[<matplotlib.lines.Line2D at 0x7fd1c3038f40>]"
      ]
     },
     "execution_count": 44,
     "metadata": {},
     "output_type": "execute_result"
    },
    {
     "data": {
      "image/png": "[encoded data removed]",
      "text/plain": [
       "<Figure size 640x480 with 1 Axes>"
      ]
     },
     "metadata": {},
     "output_type": "display_data"
    }
   ],
   "source": [
    "plt.plot(chain[burn:, 1])"
   ]
  },
  {
   "cell_type": "code",
   "execution_count": 54,
   "metadata": {},
   "outputs": [
    {
     "data": {
      "text/plain": [
       "(array([1.490e+02, 1.930e+02, 1.770e+02, 1.490e+02, 1.330e+02, 1.680e+02,\n",
       "        2.060e+02, 1.560e+02, 1.670e+02, 1.530e+02, 1.470e+02, 1.280e+02,\n",
       "        1.520e+02, 2.250e+02, 1.890e+02, 2.110e+02, 1.670e+02, 2.130e+02,\n",
       "        2.540e+02, 2.120e+02, 2.030e+02, 2.180e+02, 2.010e+02, 1.990e+02,\n",
       "        2.110e+02, 2.130e+02, 2.390e+02, 2.250e+02, 2.750e+02, 2.400e+02,\n",
       "        2.170e+02, 2.580e+02, 2.770e+02, 2.400e+02, 2.580e+02, 2.460e+02,\n",
       "        2.450e+02, 2.530e+02, 2.750e+02, 2.680e+02, 2.810e+02, 2.800e+02,\n",
       "        2.920e+02, 3.190e+02, 3.120e+02, 3.310e+02, 3.610e+02, 3.670e+02,\n",
       "        4.090e+02, 3.600e+02, 4.300e+02, 4.270e+02, 4.760e+02, 4.800e+02,\n",
       "        4.990e+02, 5.750e+02, 6.210e+02, 7.520e+02, 8.560e+02, 1.067e+03,\n",
       "        1.405e+03, 1.813e+03, 2.473e+03, 3.006e+03, 3.701e+03, 4.531e+03,\n",
       "        5.169e+03, 5.860e+03, 5.885e+03, 5.790e+03, 5.768e+03, 5.127e+03,\n",
       "        4.604e+03, 3.977e+03, 3.242e+03, 2.620e+03, 1.975e+03, 1.515e+03,\n",
       "        1.144e+03, 8.110e+02, 5.840e+02, 4.300e+02, 2.570e+02, 1.680e+02,\n",
       "        1.260e+02, 7.300e+01, 6.500e+01, 3.100e+01, 1.900e+01, 1.100e+01,\n",
       "        6.000e+00, 5.000e+00, 2.000e+00, 2.000e+00, 0.000e+00, 0.000e+00,\n",
       "        0.000e+00, 0.000e+00, 0.000e+00, 1.000e+00]),\n",
       " array([1.34726146e-03, 4.39975186e-02, 8.66477757e-02, 1.29298033e-01,\n",
       "        1.71948290e-01, 2.14598547e-01, 2.57248804e-01, 2.99899061e-01,\n",
       "        3.42549319e-01, 3.85199576e-01, 4.27849833e-01, 4.70500090e-01,\n",
       "        5.13150347e-01, 5.55800604e-01, 5.98450861e-01, 6.41101118e-01,\n",
       "        6.83751376e-01, 7.26401633e-01, 7.69051890e-01, 8.11702147e-01,\n",
       "        8.54352404e-01, 8.97002661e-01, 9.39652918e-01, 9.82303176e-01,\n",
       "        1.02495343e+00, 1.06760369e+00, 1.11025395e+00, 1.15290420e+00,\n",
       "        1.19555446e+00, 1.23820472e+00, 1.28085498e+00, 1.32350523e+00,\n",
       "        1.36615549e+00, 1.40880575e+00, 1.45145600e+00, 1.49410626e+00,\n",
       "        1.53675652e+00, 1.57940678e+00, 1.62205703e+00, 1.66470729e+00,\n",
       "        1.70735755e+00, 1.75000780e+00, 1.79265806e+00, 1.83530832e+00,\n",
       "        1.87795858e+00, 1.92060883e+00, 1.96325909e+00, 2.00590935e+00,\n",
       "        2.04855960e+00, 2.09120986e+00, 2.13386012e+00, 2.17651038e+00,\n",
       "        2.21916063e+00, 2.26181089e+00, 2.30446115e+00, 2.34711140e+00,\n",
       "        2.38976166e+00, 2.43241192e+00, 2.47506218e+00, 2.51771243e+00,\n",
       "        2.56036269e+00, 2.60301295e+00, 2.64566320e+00, 2.68831346e+00,\n",
       "        2.73096372e+00, 2.77361398e+00, 2.81626423e+00, 2.85891449e+00,\n",
       "        2.90156475e+00, 2.94421500e+00, 2.98686526e+00, 3.02951552e+00,\n",
       "        3.07216578e+00, 3.11481603e+00, 3.15746629e+00, 3.20011655e+00,\n",
       "        3.24276680e+00, 3.28541706e+00, 3.32806732e+00, 3.37071758e+00,\n",
       "        3.41336783e+00, 3.45601809e+00, 3.49866835e+00, 3.54131860e+00,\n",
       "        3.58396886e+00, 3.62661912e+00, 3.66926938e+00, 3.71191963e+00,\n",
       "        3.75456989e+00, 3.79722015e+00, 3.83987040e+00, 3.88252066e+00,\n",
       "        3.92517092e+00, 3.96782118e+00, 4.01047143e+00, 4.05312169e+00,\n",
       "        4.09577195e+00, 4.13842220e+00, 4.18107246e+00, 4.22372272e+00,\n",
       "        4.26637298e+00]),\n",
       " <BarContainer object of 100 artists>)"
      ]
     },
     "execution_count": 54,
     "metadata": {},
     "output_type": "execute_result"
    },
    {
     "data": {
      "image/png": "[encoded data removed]",
      "text/plain": [
       "<Figure size 640x480 with 1 Axes>"
      ]
     },
     "metadata": {},
     "output_type": "display_data"
    }
   ],
   "source": [
    "plt.hist(chain[burn:,0],bins=100)"
   ]
  }
 ],
 "metadata": {
  "kernelspec": {
   "display_name": "enterprise",
   "language": "python",
   "name": "python3"
  },
  "language_info": {
   "codemirror_mode": {
    "name": "ipython",
    "version": 3
   },
   "file_extension": ".py",
   "mimetype": "text/x-python",
   "name": "python",
   "nbconvert_exporter": "python",
   "pygments_lexer": "ipython3",
   "version": "3.10.16"
  }
 },
 "nbformat": 4,
 "nbformat_minor": 2
}
